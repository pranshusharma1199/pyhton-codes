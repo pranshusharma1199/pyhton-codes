{
 "cells": [
  {
   "cell_type": "raw",
   "metadata": {},
   "source": [
    "# slove quadratic Equation\n",
    "# Armstorng \n",
    "# fabonacii series\n",
    "# matrix\n"
   ]
  },
  {
   "cell_type": "code",
   "execution_count": 1,
   "metadata": {},
   "outputs": [],
   "source": [
    "f = open(\"sample.txt\",\"w\")\n",
    "s =\"\"\"Hello world,\n",
    "This is for just demonstration.\n",
    "let's do it now.\n",
    "hashing\n",
    "\"\"\"\n",
    "f.write(s)\n",
    "f.close()\n"
   ]
  },
  {
   "cell_type": "code",
   "execution_count": 2,
   "metadata": {},
   "outputs": [],
   "source": [
    "f = open('sample.txt')\n",
    "data = f.read()\n",
    "f.close()"
   ]
  },
  {
   "cell_type": "code",
   "execution_count": 3,
   "metadata": {},
   "outputs": [
    {
     "name": "stdout",
     "output_type": "stream",
     "text": [
      "Hello world,\n",
      "This is for just demonstration.\n",
      "let's do it now.\n",
      "hashing\n",
      "\n"
     ]
    }
   ],
   "source": [
    "print(data)"
   ]
  },
  {
   "cell_type": "code",
   "execution_count": 4,
   "metadata": {},
   "outputs": [],
   "source": [
    "data_hash = hash(data)"
   ]
  },
  {
   "cell_type": "code",
   "execution_count": 5,
   "metadata": {},
   "outputs": [
    {
     "data": {
      "text/plain": [
       "784400462826734957"
      ]
     },
     "execution_count": 5,
     "metadata": {},
     "output_type": "execute_result"
    }
   ],
   "source": [
    "data_hash"
   ]
  },
  {
   "cell_type": "code",
   "execution_count": 6,
   "metadata": {},
   "outputs": [],
   "source": [
    "mail1 = \"hey buddy how doing\"\n",
    "mail2 = \"let's go for party\"\n",
    "mail3 = \"Whats happening\"\n",
    "\n",
    "mail = mail1+'\\n\\n'+mail2+\"\\n\\n\"+mail3"
   ]
  },
  {
   "cell_type": "code",
   "execution_count": 7,
   "metadata": {},
   "outputs": [
    {
     "data": {
      "text/plain": [
       "\"hey buddy how doing\\n\\nlet's go for party\\n\\nWhats happening\""
      ]
     },
     "execution_count": 7,
     "metadata": {},
     "output_type": "execute_result"
    }
   ],
   "source": [
    "mail"
   ]
  },
  {
   "cell_type": "code",
   "execution_count": 8,
   "metadata": {},
   "outputs": [
    {
     "name": "stdout",
     "output_type": "stream",
     "text": [
      "hey buddy how doing\n",
      "\n",
      "let's go for party\n",
      "\n",
      "Whats happening\n"
     ]
    }
   ],
   "source": [
    "print(mail)"
   ]
  },
  {
   "cell_type": "code",
   "execution_count": 12,
   "metadata": {},
   "outputs": [],
   "source": [
    "f = open('iron.jpeg','rb')\n",
    "\n",
    "lines = 0\n",
    "for line in f : \n",
    "    lines += 1\n",
    "\n",
    "f.close()"
   ]
  },
  {
   "cell_type": "code",
   "execution_count": 13,
   "metadata": {},
   "outputs": [
    {
     "data": {
      "text/plain": [
       "539"
      ]
     },
     "execution_count": 13,
     "metadata": {},
     "output_type": "execute_result"
    }
   ],
   "source": [
    "lines"
   ]
  },
  {
   "cell_type": "code",
   "execution_count": 18,
   "metadata": {},
   "outputs": [
    {
     "ename": "SyntaxError",
     "evalue": "(value error) invalid \\x escape at position 0 (<ipython-input-18-99a9cb270820>, line 5)",
     "output_type": "error",
     "traceback": [
      "\u001b[0;36m  File \u001b[0;32m\"<ipython-input-18-99a9cb270820>\"\u001b[0;36m, line \u001b[0;32m5\u001b[0m\n\u001b[0;31m    line.split(b'\\x')\u001b[0m\n\u001b[0m              ^\u001b[0m\n\u001b[0;31mSyntaxError\u001b[0m\u001b[0;31m:\u001b[0m (value error) invalid \\x escape at position 0\n"
     ]
    }
   ],
   "source": []
  },
  {
   "cell_type": "code",
   "execution_count": 19,
   "metadata": {},
   "outputs": [],
   "source": [
    "students = [ ]"
   ]
  },
  {
   "cell_type": "code",
   "execution_count": 20,
   "metadata": {},
   "outputs": [
    {
     "name": "stdout",
     "output_type": "stream",
     "text": [
      "nameanil\n",
      "Points45\n",
      "namepranjal\n",
      "Points95\n",
      "nameomkar\n",
      "Points95\n",
      "nameamit\n",
      "Points85\n",
      "nameharsh\n",
      "Points104\n",
      "nameanshika\n",
      "Points35\n",
      "namerahul\n",
      "Points134\n",
      "namesanskar\n",
      "Points30\n",
      "nameayub\n",
      "Points32\n",
      "namesaurv\n",
      "Points75\n",
      "nameaakash\n",
      "Points75\n",
      "namearun\n",
      "Points55\n",
      "namepranshu\n",
      "Points55\n",
      "nameanjali\n",
      "Points45\n",
      "nameanamika\n",
      "Points0\n"
     ]
    }
   ],
   "source": [
    "while True : \n",
    "    name = input(\"name\")\n",
    "    marks = int(input(\"Points\"))\n",
    "    if name and marks : \n",
    "        students.append((name,marks))\n",
    "    else : \n",
    "        break"
   ]
  },
  {
   "cell_type": "code",
   "execution_count": 23,
   "metadata": {},
   "outputs": [],
   "source": [
    "students.pop()\n",
    "students.extend([('sonali',0),('bhavesh',55)])"
   ]
  },
  {
   "cell_type": "code",
   "execution_count": 34,
   "metadata": {},
   "outputs": [],
   "source": [
    "students.append(('anamika',0))"
   ]
  },
  {
   "cell_type": "code",
   "execution_count": 35,
   "metadata": {},
   "outputs": [],
   "source": [
    "students.sort()"
   ]
  },
  {
   "cell_type": "code",
   "execution_count": 36,
   "metadata": {},
   "outputs": [
    {
     "data": {
      "text/plain": [
       "[('aakash', 75),\n",
       " ('amit', 85),\n",
       " ('anamika', 0),\n",
       " ('anil', 45),\n",
       " ('anjali', 45),\n",
       " ('anshika', 35),\n",
       " ('arun', 55),\n",
       " ('ayub', 32),\n",
       " ('bhavesh', 55),\n",
       " ('harsh', 104),\n",
       " ('omkar', 95),\n",
       " ('pranjal', 95),\n",
       " ('pranshu', 55),\n",
       " ('rahul', 134),\n",
       " ('sanskar', 30),\n",
       " ('saurv', 75),\n",
       " ('sonali', 0)]"
      ]
     },
     "execution_count": 36,
     "metadata": {},
     "output_type": "execute_result"
    }
   ],
   "source": [
    "students"
   ]
  },
  {
   "cell_type": "code",
   "execution_count": 37,
   "metadata": {},
   "outputs": [],
   "source": [
    "students.sort(key=lambda x:x[1])"
   ]
  },
  {
   "cell_type": "code",
   "execution_count": 38,
   "metadata": {},
   "outputs": [
    {
     "data": {
      "text/plain": [
       "[('anamika', 0),\n",
       " ('sonali', 0),\n",
       " ('sanskar', 30),\n",
       " ('ayub', 32),\n",
       " ('anshika', 35),\n",
       " ('anil', 45),\n",
       " ('anjali', 45),\n",
       " ('arun', 55),\n",
       " ('bhavesh', 55),\n",
       " ('pranshu', 55),\n",
       " ('aakash', 75),\n",
       " ('saurv', 75),\n",
       " ('amit', 85),\n",
       " ('omkar', 95),\n",
       " ('pranjal', 95),\n",
       " ('harsh', 104),\n",
       " ('rahul', 134)]"
      ]
     },
     "execution_count": 38,
     "metadata": {},
     "output_type": "execute_result"
    }
   ],
   "source": [
    "students"
   ]
  },
  {
   "cell_type": "code",
   "execution_count": 39,
   "metadata": {},
   "outputs": [
    {
     "data": {
      "text/plain": [
       "[('anamika', 0), ('sonali', 0), ('sanskar', 30), ('ayub', 32), ('anshika', 35)]"
      ]
     },
     "execution_count": 39,
     "metadata": {},
     "output_type": "execute_result"
    }
   ],
   "source": [
    "students[:5]"
   ]
  },
  {
   "cell_type": "code",
   "execution_count": 40,
   "metadata": {},
   "outputs": [
    {
     "data": {
      "text/plain": [
       "[('rahul', 134), ('harsh', 104), ('pranjal', 95), ('omkar', 95), ('amit', 85)]"
      ]
     },
     "execution_count": 40,
     "metadata": {},
     "output_type": "execute_result"
    }
   ],
   "source": [
    "students[-5:][::-1]"
   ]
  },
  {
   "cell_type": "code",
   "execution_count": 45,
   "metadata": {},
   "outputs": [
    {
     "name": "stdout",
     "output_type": "stream",
     "text": [
      "Enter a number : 1634\n",
      "Armstrong\n",
      "1634\n"
     ]
    }
   ],
   "source": [
    "num = input(\"Enter a number : \")\n",
    "no_of_digits = len(num)\n",
    "result = 0\n",
    "for char in num: \n",
    "    int_char = int(char)\n",
    "    power = int_char**no_of_digits\n",
    "    result += power\n",
    "result = str(result)\n",
    "if num == result : \n",
    "    print(\"Armstrong\")\n",
    "else : \n",
    "    print(\"Not Armstrong\")\n",
    "print(result)"
   ]
  },
  {
   "cell_type": "code",
   "execution_count": 47,
   "metadata": {},
   "outputs": [
    {
     "name": "stdout",
     "output_type": "stream",
     "text": [
      "Enter number : 122\n",
      "Not Palindrome\n"
     ]
    }
   ],
   "source": [
    "num = input(\"Enter number : \")\n",
    "if num == num[::-1] : \n",
    "    print(\"Palindrome\")\n",
    "else : \n",
    "    print(\"Not Palindrome\")"
   ]
  },
  {
   "cell_type": "code",
   "execution_count": 58,
   "metadata": {},
   "outputs": [
    {
     "name": "stdout",
     "output_type": "stream",
     "text": [
      "Enter a number : 12673\n",
      "Not Armstrong\n"
     ]
    }
   ],
   "source": [
    "num = int(input(\"Enter a number : \"))\n",
    "temp_num = num\n",
    "no_of_digits = 0 \n",
    "while temp_num : \n",
    "    no_of_digits += 1\n",
    "    temp_num = temp_num // 10\n",
    "temp_num = num\n",
    "\n",
    "s = 0 \n",
    "while temp_num : \n",
    "    s = s + ( temp_num % 10 ) ** no_of_digits\n",
    "    temp_num = temp_num // 10\n",
    "    \n",
    "if s == num : \n",
    "    print(\"Armstrong\")\n",
    "else : \n",
    "    print(\"Not Armstrong\")"
   ]
  },
  {
   "cell_type": "code",
   "execution_count": 53,
   "metadata": {},
   "outputs": [
    {
     "data": {
      "text/plain": [
       "57"
      ]
     },
     "execution_count": 53,
     "metadata": {},
     "output_type": "execute_result"
    }
   ],
   "source": [
    "no_of_digits"
   ]
  },
  {
   "cell_type": "code",
   "execution_count": 62,
   "metadata": {},
   "outputs": [
    {
     "name": "stdout",
     "output_type": "stream",
     "text": [
      "1 4 2\n",
      "Solution x1 = -0.59 and x2 = -3.4\n"
     ]
    }
   ],
   "source": [
    "a,b,c = map(int,input().split())\n",
    "from math import sqrt\n",
    "\n",
    "#constraint b**2 - 4*a*c should not be negative\n",
    "x1  = ( -b + sqrt((b**2) -(4*a*c)) ) / (2*a) \n",
    "x2  = ( -b - sqrt((b**2) -(4*a*c)) ) / (2*a) \n",
    "\n",
    "print(f\"Solution x1 = {x1:.2} and x2 = {x2:.2}\")"
   ]
  },
  {
   "cell_type": "code",
   "execution_count": 65,
   "metadata": {},
   "outputs": [],
   "source": [
    "from sympy import symbols"
   ]
  },
  {
   "cell_type": "code",
   "execution_count": 66,
   "metadata": {},
   "outputs": [],
   "source": [
    "x = symbols('x')\n",
    "y = symbols('y')"
   ]
  },
  {
   "cell_type": "code",
   "execution_count": 67,
   "metadata": {},
   "outputs": [
    {
     "data": {
      "text/plain": [
       "sympy.core.symbol.Symbol"
      ]
     },
     "execution_count": 67,
     "metadata": {},
     "output_type": "execute_result"
    }
   ],
   "source": [
    "type(x)"
   ]
  },
  {
   "cell_type": "code",
   "execution_count": 68,
   "metadata": {},
   "outputs": [
    {
     "data": {
      "text/plain": [
       "sympy.core.symbol.Symbol"
      ]
     },
     "execution_count": 68,
     "metadata": {},
     "output_type": "execute_result"
    }
   ],
   "source": [
    "type(y)"
   ]
  },
  {
   "cell_type": "code",
   "execution_count": 69,
   "metadata": {},
   "outputs": [
    {
     "data": {
      "text/plain": [
       "x + y"
      ]
     },
     "execution_count": 69,
     "metadata": {},
     "output_type": "execute_result"
    }
   ],
   "source": [
    "x+y"
   ]
  },
  {
   "cell_type": "code",
   "execution_count": 71,
   "metadata": {},
   "outputs": [],
   "source": [
    "s = (x+y)**2"
   ]
  },
  {
   "cell_type": "code",
   "execution_count": 72,
   "metadata": {},
   "outputs": [
    {
     "data": {
      "text/plain": [
       "(x + y)**2"
      ]
     },
     "execution_count": 72,
     "metadata": {},
     "output_type": "execute_result"
    }
   ],
   "source": [
    "s"
   ]
  },
  {
   "cell_type": "code",
   "execution_count": 73,
   "metadata": {},
   "outputs": [
    {
     "data": {
      "text/plain": [
       "x**2 + 2*x*y + y**2"
      ]
     },
     "execution_count": 73,
     "metadata": {},
     "output_type": "execute_result"
    }
   ],
   "source": [
    "s.expand()"
   ]
  },
  {
   "cell_type": "code",
   "execution_count": 74,
   "metadata": {},
   "outputs": [],
   "source": [
    "from sympy import solve"
   ]
  },
  {
   "cell_type": "code",
   "execution_count": 80,
   "metadata": {},
   "outputs": [
    {
     "data": {
      "text/plain": [
       "[]"
      ]
     },
     "execution_count": 80,
     "metadata": {},
     "output_type": "execute_result"
    }
   ],
   "source": [
    "solve(s,5,6)"
   ]
  },
  {
   "cell_type": "code",
   "execution_count": 76,
   "metadata": {},
   "outputs": [],
   "source": [
    "#latex"
   ]
  },
  {
   "cell_type": "code",
   "execution_count": 81,
   "metadata": {},
   "outputs": [],
   "source": [
    "l = [ 'hello','hi','bye','java','c','c++']"
   ]
  },
  {
   "cell_type": "code",
   "execution_count": 82,
   "metadata": {},
   "outputs": [
    {
     "data": {
      "text/plain": [
       "<enumerate at 0x7f4d369858b8>"
      ]
     },
     "execution_count": 82,
     "metadata": {},
     "output_type": "execute_result"
    }
   ],
   "source": [
    "enumerate(l)"
   ]
  },
  {
   "cell_type": "code",
   "execution_count": 83,
   "metadata": {},
   "outputs": [
    {
     "name": "stdout",
     "output_type": "stream",
     "text": [
      "(0, 'hello') (1, 'hi') (2, 'bye') (3, 'java') (4, 'c') (5, 'c++')\n"
     ]
    }
   ],
   "source": [
    "print(*enumerate(l))"
   ]
  },
  {
   "cell_type": "code",
   "execution_count": 85,
   "metadata": {},
   "outputs": [
    {
     "name": "stdout",
     "output_type": "stream",
     "text": [
      "0 = hello\n",
      "1 = hi\n",
      "2 = bye\n",
      "3 = java\n",
      "4 = c\n",
      "5 = c++\n"
     ]
    }
   ],
   "source": [
    "for index,item in enumerate(l) : \n",
    "    print(f\"{index} = {item}\")"
   ]
  },
  {
   "cell_type": "code",
   "execution_count": 89,
   "metadata": {},
   "outputs": [
    {
     "name": "stdout",
     "output_type": "stream",
     "text": [
      "Enter number of terms you want in fab. 10\n",
      "0 1, 1, 2, 3, 5, 8, 13, 21, 34, "
     ]
    }
   ],
   "source": [
    "# 0 1 1 2 3 5 8 13 \n",
    "start = 0\n",
    "end = 1\n",
    "num = int(input(\"Enter number of terms you want in fab. \"))\n",
    "print(start,end,end=', ')\n",
    "num -= 2\n",
    "\n",
    "for var in range(num) : \n",
    "    start,end=end,start+end\n",
    "    print(end,end=', ')"
   ]
  },
  {
   "cell_type": "code",
   "execution_count": 92,
   "metadata": {},
   "outputs": [
    {
     "name": "stdout",
     "output_type": "stream",
     "text": [
      "Enter a range to find armstrong : 100 9999999999\n",
      "153, 370, 371, 407, 1634, 8208, 9474, 54748, 92727, 93084, 548834, 1741725, 4210818, 9800817, 9926315, 24678050, 24678051, "
     ]
    },
    {
     "ename": "KeyboardInterrupt",
     "evalue": "",
     "output_type": "error",
     "traceback": [
      "\u001b[0;31m---------------------------------------------------------------------------\u001b[0m",
      "\u001b[0;31mKeyboardInterrupt\u001b[0m                         Traceback (most recent call last)",
      "\u001b[0;32m<ipython-input-92-787343fba87f>\u001b[0m in \u001b[0;36m<module>\u001b[0;34m()\u001b[0m\n\u001b[1;32m     10\u001b[0m     \u001b[0ms\u001b[0m \u001b[0;34m=\u001b[0m \u001b[0;36m0\u001b[0m\u001b[0;34m\u001b[0m\u001b[0m\n\u001b[1;32m     11\u001b[0m     \u001b[0;32mwhile\u001b[0m \u001b[0mtemp_num\u001b[0m \u001b[0;34m:\u001b[0m\u001b[0;34m\u001b[0m\u001b[0m\n\u001b[0;32m---> 12\u001b[0;31m         \u001b[0ms\u001b[0m \u001b[0;34m=\u001b[0m \u001b[0ms\u001b[0m \u001b[0;34m+\u001b[0m \u001b[0;34m(\u001b[0m \u001b[0mtemp_num\u001b[0m \u001b[0;34m%\u001b[0m \u001b[0;36m10\u001b[0m \u001b[0;34m)\u001b[0m \u001b[0;34m**\u001b[0m \u001b[0mno_of_digits\u001b[0m\u001b[0;34m\u001b[0m\u001b[0m\n\u001b[0m\u001b[1;32m     13\u001b[0m         \u001b[0mtemp_num\u001b[0m \u001b[0;34m=\u001b[0m \u001b[0mtemp_num\u001b[0m \u001b[0;34m//\u001b[0m \u001b[0;36m10\u001b[0m\u001b[0;34m\u001b[0m\u001b[0m\n\u001b[1;32m     14\u001b[0m \u001b[0;34m\u001b[0m\u001b[0m\n",
      "\u001b[0;31mKeyboardInterrupt\u001b[0m: "
     ]
    }
   ],
   "source": [
    "\n",
    "s,e = map(int,input(\"Enter a range to find armstrong : \").split())\n",
    "for num in range(s,e): \n",
    "    temp_num = num\n",
    "    no_of_digits = 0 \n",
    "    while temp_num : \n",
    "        no_of_digits += 1\n",
    "        temp_num = temp_num // 10\n",
    "    temp_num = num\n",
    "\n",
    "    s = 0 \n",
    "    while temp_num : \n",
    "        s = s + ( temp_num % 10 ) ** no_of_digits\n",
    "        temp_num = temp_num // 10\n",
    "\n",
    "    if s == num : \n",
    "        print(num,end=', ')"
   ]
  },
  {
   "cell_type": "code",
   "execution_count": 97,
   "metadata": {},
   "outputs": [
    {
     "name": "stdout",
     "output_type": "stream",
     "text": [
      "Enter number to check whether it will come in fab : 100\n",
      "False\n"
     ]
    }
   ],
   "source": [
    "# 0 1 1 2 3 5 8 13 \n",
    "start = 0\n",
    "end = 1\n",
    "num = int(input(\"Enter number to check whether it will come in fab : \"))\n",
    "#print(start,end,end=', ')\n",
    "while True :  \n",
    "    start,end=end,start+end#print(end,end=', ')\n",
    "    if end == num : \n",
    "        print(True)\n",
    "        break\n",
    "    elif end > num : \n",
    "        print(False)\n",
    "        break\n",
    "        "
   ]
  },
  {
   "cell_type": "code",
   "execution_count": 98,
   "metadata": {},
   "outputs": [],
   "source": [
    "l = [ \n",
    "        [1,2,3],\n",
    "        [5,6,7],\n",
    "        [6,7,8],\n",
    "        [1,2,3],\n",
    "]"
   ]
  },
  {
   "cell_type": "code",
   "execution_count": 100,
   "metadata": {},
   "outputs": [
    {
     "data": {
      "text/plain": [
       "2"
      ]
     },
     "execution_count": 100,
     "metadata": {},
     "output_type": "execute_result"
    }
   ],
   "source": [
    "l[0][1]"
   ]
  },
  {
   "cell_type": "code",
   "execution_count": 109,
   "metadata": {},
   "outputs": [
    {
     "name": "stdout",
     "output_type": "stream",
     "text": [
      "(Row Columns) : 3 4\n",
      "Item[0,0]1\n",
      "Item[0,1]5\n",
      "Item[0,2]3\n",
      "Item[0,3]6\n",
      "Item[1,0]1\n",
      "Item[1,1]3\n",
      "Item[1,2]5\n",
      "Item[1,3]6\n",
      "Item[2,0]3\n",
      "Item[2,1]4\n",
      "Item[2,2]5\n",
      "Item[2,3]6\n",
      "[[1, 5, 3, 6], [1, 3, 5, 6], [3, 4, 5, 6]]\n"
     ]
    }
   ],
   "source": [
    "# 3*4 input\n",
    "rows,cols = map(int,input(\"(Row Columns) : \").split())\n",
    "\n",
    "matrix = [ [int(input(f\"Item[{row},{col}]\")) for col in range(cols) ] for row in range(rows) ]\n",
    "from pprint import pprint\n",
    "pprint(matrix)"
   ]
  },
  {
   "cell_type": "code",
   "execution_count": 102,
   "metadata": {},
   "outputs": [
    {
     "data": {
      "text/plain": [
       "3"
      ]
     },
     "execution_count": 102,
     "metadata": {},
     "output_type": "execute_result"
    }
   ],
   "source": [
    "rows"
   ]
  },
  {
   "cell_type": "code",
   "execution_count": 103,
   "metadata": {},
   "outputs": [
    {
     "data": {
      "text/plain": [
       "4"
      ]
     },
     "execution_count": 103,
     "metadata": {},
     "output_type": "execute_result"
    }
   ],
   "source": [
    "cols"
   ]
  },
  {
   "cell_type": "code",
   "execution_count": null,
   "metadata": {},
   "outputs": [],
   "source": [
    "mat"
   ]
  }
 ],
 "metadata": {
  "kernelspec": {
   "display_name": "Python 3",
   "language": "python",
   "name": "python3"
  },
  "language_info": {
   "codemirror_mode": {
    "name": "ipython",
    "version": 3
   },
   "file_extension": ".py",
   "mimetype": "text/x-python",
   "name": "python",
   "nbconvert_exporter": "python",
   "pygments_lexer": "ipython3",
   "version": "3.6.4"
  }
 },
 "nbformat": 4,
 "nbformat_minor": 2
}
